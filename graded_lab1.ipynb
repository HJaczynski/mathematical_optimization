{
 "cells": [
  {
   "cell_type": "code",
   "execution_count": 1,
   "metadata": {},
   "outputs": [],
   "source": [
    "from pulp import *"
   ]
  },
  {
   "cell_type": "code",
   "execution_count": 2,
   "metadata": {},
   "outputs": [],
   "source": [
    "#Initialize the model\n",
    "model = pulp.LpProblem(\"Maximize-Profit\", LpMaximize)"
   ]
  },
  {
   "cell_type": "code",
   "execution_count": null,
   "metadata": {},
   "outputs": [],
   "source": [
    "gt50boxes = LpVariable('50g boxes of Green Tea', lowBound=0, cat='Integer')\n",
    "gt100boxes = LpVariable('100g boxes of Green Tea', lowBound=0, cat='Integer')\n",
    "bt50boxes = LpVariable('50g boxes of Black Tea', lowBound=0, cat='Integer')\n",
    "bt100boxes = LpVariable('100g boxes of Black Tea', lowBound=0, cat='Integer')\n",
    "wt50boxes = LpVariable('50g boxes of White Tea', lowBound=0, cat='Integer')\n",
    "wt100boxes = LpVariable('100g boxes of White Tea', lowBound=0, cat='Integer')\n",
    "rt50boxes = LpVariable('50g boxes of Red Tea', lowBound=0, cat='Integer')\n",
    "rt100boxes = LpVariable('100g boxes of Red Tea', lowBound=0, cat='Integer')\n",
    "\n",
    "\n",
    "\n",
    "\n",
    "\n",
    "#fixed costs and max amount of boxes that can be produced \n",
    "marketing_cost = 400000\n",
    "fixed_annual_cost = 4000000\n",
    "total_boxes_produced = 2000000\n",
    "production_cost_per_box = 1\n",
    "\n",
    "#Raw tea cost per 100g\n",
    "green_tea_cost = 3.5\n",
    "black_tea_cost = 4.5\n",
    "white_tea_cost = 5.5\n",
    "red_tea_cost = 5\n",
    "\n",
    "#Profit per 50g box\n",
    "gt50=6\n",
    "bt50=7\n",
    "wt50=9\n",
    "rt50=8\n",
    "\n",
    "#Profit per 100g box\n",
    "gt100=10\n",
    "bt100=12\n",
    "wt100=16\n",
    "rt100=14\n"
   ]
  }
 ],
 "metadata": {
  "kernelspec": {
   "display_name": "venv",
   "language": "python",
   "name": "python3"
  },
  "language_info": {
   "codemirror_mode": {
    "name": "ipython",
    "version": 3
   },
   "file_extension": ".py",
   "mimetype": "text/x-python",
   "name": "python",
   "nbconvert_exporter": "python",
   "pygments_lexer": "ipython3",
   "version": "3.12.6"
  }
 },
 "nbformat": 4,
 "nbformat_minor": 2
}
