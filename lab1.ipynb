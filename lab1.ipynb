{
 "cells": [
  {
   "cell_type": "code",
   "execution_count": 1,
   "metadata": {},
   "outputs": [],
   "source": [
    "from pulp import *"
   ]
  },
  {
   "cell_type": "code",
   "execution_count": 2,
   "metadata": {},
   "outputs": [],
   "source": [
    "#Initialize the model\n",
    "model = pulp.LpProblem(\"Maximize-Profit\", LpMaximize)"
   ]
  },
  {
   "cell_type": "code",
   "execution_count": 3,
   "metadata": {},
   "outputs": [],
   "source": [
    "#Define the decision variables\n",
    "Beer = LpVariable('Batches of Beer', lowBound=0, cat='Integer')\n",
    "Wine = LpVariable('Batches of Wine', lowBound=0, upBound=6, cat='Integer')"
   ]
  },
  {
   "cell_type": "code",
   "execution_count": 4,
   "metadata": {},
   "outputs": [],
   "source": [
    "# Define the objective function\n",
    "model += 4.5 * Beer + 5 * Wine, \"Profit\""
   ]
  },
  {
   "cell_type": "code",
   "execution_count": 5,
   "metadata": {},
   "outputs": [],
   "source": [
    "# Define the constraints\n",
    "model += 5 * Beer + 6 * Wine <= 60\n",
    "model += 20 * Beer + 10 * Wine <= 150"
   ]
  },
  {
   "cell_type": "code",
   "execution_count": 6,
   "metadata": {},
   "outputs": [
    {
     "data": {
      "text/plain": [
       "1"
      ]
     },
     "execution_count": 6,
     "metadata": {},
     "output_type": "execute_result"
    }
   ],
   "source": [
    "# Solve the optimization problem\n",
    "model.solve()\n",
    "#jeśli nie działa to w venv musisz wpisać softwareupdate --install-rosetta"
   ]
  },
  {
   "cell_type": "code",
   "execution_count": 7,
   "metadata": {},
   "outputs": [
    {
     "name": "stdout",
     "output_type": "stream",
     "text": [
      "Product 4.0 batches of beer\n",
      "Product 6.0 batches of wine\n"
     ]
    }
   ],
   "source": [
    "print(\"Product {} batches of beer\".format(Beer.varValue))\n",
    "print(\"Product {} batches of wine\".format(Wine.varValue))"
   ]
  },
  {
   "cell_type": "code",
   "execution_count": 8,
   "metadata": {},
   "outputs": [
    {
     "name": "stdout",
     "output_type": "stream",
     "text": [
      "Total Profit: $48.0\n"
     ]
    }
   ],
   "source": [
    "# Calculate the profit\n",
    "profit = 4.5 * Beer.varValue + 5 * Wine.varValue\n",
    "print(\"Total Profit: ${}\".format(profit))"
   ]
  },
  {
   "cell_type": "code",
   "execution_count": 9,
   "metadata": {},
   "outputs": [],
   "source": [
    "#LAB 1 Exercise 2"
   ]
  },
  {
   "cell_type": "code",
   "execution_count": 10,
   "metadata": {},
   "outputs": [],
   "source": [
    "model2 = pulp.LpProblem(\"Minimize-Cost\", LpMinimize)"
   ]
  },
  {
   "cell_type": "code",
   "execution_count": 11,
   "metadata": {},
   "outputs": [],
   "source": [
    "#Define the decision variables\n",
    "#Define the decision variables\n",
    "Bilbao_to_Italy = LpVariable('Italy Transport', lowBound=400, upBound=1800, cat='Integer')\n",
    "Bilbao_to_France = LpVariable('France Transport', lowBound=400, upBound=1200, cat='Integer')\n",
    "Bilbao_to_Spain = LpVariable('Spain Transport', lowBound=800, upBound=1100, cat='Integer')\n",
    "Bilbao_to_Portugal = LpVariable('Portugal Transport', lowBound=400, upBound=1000, cat='Integer')\n",
    "Lyon_to_Italy = LpVariable('Italy2 Transport', lowBound=400, upBound=1800, cat='Integer')\n",
    "Lyon_to_France = LpVariable('France2 Transport', lowBound=600, upBound=1200, cat='Integer')\n",
    "Lyon_to_Spain = LpVariable('Spain2 Transport', lowBound=400, upBound=1100, cat='Integer')\n",
    "Lyon_to_Portugal = LpVariable('Portugal2 Transport', lowBound=400, upBound=1000, cat='Integer')"
   ]
  },
  {
   "cell_type": "code",
   "execution_count": 12,
   "metadata": {},
   "outputs": [],
   "source": [
    "model2 += 2.11 * Bilbao_to_Italy + 2.32 * Bilbao_to_France + 2.40 * Bilbao_to_Spain + 3.00 * Bilbao_to_Portugal + 2.32 * Lyon_to_Italy + 2.12 * Lyon_to_France + 2.30 * Lyon_to_Spain + 2.80 * Lyon_to_Portugal + 0.5 * 2.8 *  Lyon_to_Portugal, \"Cost\""
   ]
  },
  {
   "cell_type": "code",
   "execution_count": 13,
   "metadata": {},
   "outputs": [],
   "source": [
    "model2 += Bilbao_to_Italy + Lyon_to_Italy == 1800\n",
    "model2 += Bilbao_to_France + Lyon_to_France == 1200\n",
    "model2 += Bilbao_to_Spain + Lyon_to_Spain == 1100\n",
    "model2 += Bilbao_to_Portugal + Lyon_to_Portugal == 1000"
   ]
  },
  {
   "cell_type": "code",
   "execution_count": 14,
   "metadata": {},
   "outputs": [
    {
     "data": {
      "text/plain": [
       "-1"
      ]
     },
     "execution_count": 14,
     "metadata": {},
     "output_type": "execute_result"
    }
   ],
   "source": [
    "model2.solve()"
   ]
  },
  {
   "cell_type": "code",
   "execution_count": 15,
   "metadata": {},
   "outputs": [
    {
     "name": "stdout",
     "output_type": "stream",
     "text": [
      "12266.0\n"
     ]
    }
   ],
   "source": [
    "# Print the results + fajna rzecz, o której moze nie wiesz to option + z na macu i masz ten wrap fajny, zeby nie scrollowac w prawo bo ogladalem filmik niedawno o tym \n",
    "cost = 2.11 * Bilbao_to_Italy.varValue+ 2.32 * Bilbao_to_France.varValue + 2.40 * Bilbao_to_Spain.varValue + 3.00 * Bilbao_to_Portugal.varValue + 2.32 * Lyon_to_Italy.varValue + 2.12 * Lyon_to_France.varValue + 2.30 * Lyon_to_Spain.varValue + 2.80 * Lyon_to_Portugal.varValue\n",
    "print(f\"{cost}\")\n"
   ]
  }
 ],
 "metadata": {
  "kernelspec": {
   "display_name": ".venv",
   "language": "python",
   "name": "python3"
  },
  "language_info": {
   "codemirror_mode": {
    "name": "ipython",
    "version": 3
   },
   "file_extension": ".py",
   "mimetype": "text/x-python",
   "name": "python",
   "nbconvert_exporter": "python",
   "pygments_lexer": "ipython3",
   "version": "3.12.5"
  }
 },
 "nbformat": 4,
 "nbformat_minor": 2
}
