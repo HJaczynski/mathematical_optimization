{
 "cells": [
  {
   "cell_type": "code",
   "execution_count": 114,
   "metadata": {},
   "outputs": [],
   "source": [
    "from pulp import *"
   ]
  },
  {
   "cell_type": "code",
   "execution_count": 115,
   "metadata": {},
   "outputs": [],
   "source": [
    "#Initialize the model\n",
    "model = pulp.LpProblem(\"Maximize-Profit\", LpMaximize)"
   ]
  },
  {
   "cell_type": "code",
   "execution_count": 116,
   "metadata": {},
   "outputs": [],
   "source": [
    "#Define the decision variables\n",
    "Beer = LpVariable('Batches of Beer', lowBound=0, cat='Integer')\n",
    "Wine = LpVariable('Batches of Wine', lowBound=0, upBound=6, cat='Integer')"
   ]
  },
  {
   "cell_type": "code",
   "execution_count": 117,
   "metadata": {},
   "outputs": [],
   "source": [
    "# Define the objective function\n",
    "model += 4.5 * Beer + 5 * Wine, \"Profit\""
   ]
  },
  {
   "cell_type": "code",
   "execution_count": 118,
   "metadata": {},
   "outputs": [],
   "source": [
    "# Define the constraints\n",
    "model += 5 * Beer + 6 * Wine <= 60\n",
    "model += 20 * Beer + 10 * Wine <= 150"
   ]
  },
  {
   "cell_type": "code",
   "execution_count": 119,
   "metadata": {},
   "outputs": [
    {
     "name": "stdout",
     "output_type": "stream",
     "text": [
      "Welcome to the CBC MILP Solver \n",
      "Version: 2.10.3 \n",
      "Build Date: Dec 15 2019 \n",
      "\n",
      "command line - /Users/hubert/Mathematical Optimization/venv/lib/python3.12/site-packages/pulp/solverdir/cbc/osx/64/cbc /var/folders/k9/h185wcs52298q4_7336lhjww0000gn/T/690cdd98420349318f2dd2f181fca84d-pulp.mps -max -timeMode elapsed -branch -printingOptions all -solution /var/folders/k9/h185wcs52298q4_7336lhjww0000gn/T/690cdd98420349318f2dd2f181fca84d-pulp.sol (default strategy 1)\n",
      "At line 2 NAME          MODEL\n",
      "At line 3 ROWS\n",
      "At line 7 COLUMNS\n",
      "At line 18 RHS\n",
      "At line 21 BOUNDS\n",
      "At line 24 ENDATA\n",
      "Problem MODEL has 2 rows, 2 columns and 4 elements\n",
      "Coin0008I MODEL read with 0 errors\n",
      "Option for timeMode changed from cpu to elapsed\n",
      "Continuous objective value is 50.25 - 0.00 seconds\n",
      "Cgl0004I processed model has 2 rows, 2 columns (2 integer (0 of which binary)) and 4 elements\n",
      "Cutoff increment increased from 1e-05 to 0.4999\n",
      "Cbc0012I Integer solution of -48 found by DiveCoefficient after 0 iterations and 0 nodes (0.00 seconds)\n",
      "Cbc0006I The LP relaxation is infeasible or too expensive\n",
      "Cbc0013I At root node, 0 cuts changed objective from -50.25 to -50.25 in 1 passes\n",
      "Cbc0014I Cut generator 0 (Probing) - 1 row cuts average 0.0 elements, 0 column cuts (0 active)  in 0.000 seconds - new frequency is 1\n",
      "Cbc0014I Cut generator 1 (Gomory) - 0 row cuts average 0.0 elements, 0 column cuts (0 active)  in 0.000 seconds - new frequency is -100\n",
      "Cbc0014I Cut generator 2 (Knapsack) - 0 row cuts average 0.0 elements, 0 column cuts (0 active)  in 0.000 seconds - new frequency is -100\n",
      "Cbc0014I Cut generator 3 (Clique) - 0 row cuts average 0.0 elements, 0 column cuts (0 active)  in 0.000 seconds - new frequency is -100\n",
      "Cbc0014I Cut generator 4 (MixedIntegerRounding2) - 0 row cuts average 0.0 elements, 0 column cuts (0 active)  in 0.000 seconds - new frequency is -100\n",
      "Cbc0014I Cut generator 5 (FlowCover) - 0 row cuts average 0.0 elements, 0 column cuts (0 active)  in 0.000 seconds - new frequency is -100\n",
      "Cbc0014I Cut generator 6 (TwoMirCuts) - 0 row cuts average 0.0 elements, 0 column cuts (0 active)  in 0.000 seconds - new frequency is -100\n",
      "Cbc0014I Cut generator 7 (ZeroHalf) - 0 row cuts average 0.0 elements, 0 column cuts (0 active)  in 0.000 seconds - new frequency is -100\n",
      "Cbc0001I Search completed - best objective -48, took 0 iterations and 0 nodes (0.00 seconds)\n",
      "Cbc0035I Maximum depth 0, 0 variables fixed on reduced cost\n",
      "Cuts at root node changed objective from -50.25 to -50.25\n",
      "Probing was tried 1 times and created 1 cuts of which 0 were active after adding rounds of cuts (0.000 seconds)\n",
      "Gomory was tried 0 times and created 0 cuts of which 0 were active after adding rounds of cuts (0.000 seconds)\n",
      "Knapsack was tried 0 times and created 0 cuts of which 0 were active after adding rounds of cuts (0.000 seconds)\n",
      "Clique was tried 0 times and created 0 cuts of which 0 were active after adding rounds of cuts (0.000 seconds)\n",
      "MixedIntegerRounding2 was tried 0 times and created 0 cuts of which 0 were active after adding rounds of cuts (0.000 seconds)\n",
      "FlowCover was tried 0 times and created 0 cuts of which 0 were active after adding rounds of cuts (0.000 seconds)\n",
      "TwoMirCuts was tried 0 times and created 0 cuts of which 0 were active after adding rounds of cuts (0.000 seconds)\n",
      "ZeroHalf was tried 0 times and created 0 cuts of which 0 were active after adding rounds of cuts (0.000 seconds)\n",
      "\n",
      "Result - Optimal solution found\n",
      "\n",
      "Objective value:                48.00000000\n",
      "Enumerated nodes:               0\n",
      "Total iterations:               0\n",
      "Time (CPU seconds):             0.00\n",
      "Time (Wallclock seconds):       0.00\n",
      "\n",
      "Option for printingOptions changed from normal to all\n",
      "Total time (CPU seconds):       0.00   (Wallclock seconds):       0.00\n",
      "\n"
     ]
    },
    {
     "data": {
      "text/plain": [
       "1"
      ]
     },
     "execution_count": 119,
     "metadata": {},
     "output_type": "execute_result"
    }
   ],
   "source": [
    "# Solve the optimization problem\n",
    "model.solve()\n",
    "#jeśli nie działa to w venv musisz wpisać softwareupdate --install-rosetta"
   ]
  },
  {
   "cell_type": "code",
   "execution_count": 120,
   "metadata": {},
   "outputs": [
    {
     "name": "stdout",
     "output_type": "stream",
     "text": [
      "Product 4.0 batches of beer\n",
      "Product 6.0 batches of wine\n"
     ]
    }
   ],
   "source": [
    "print(\"Product {} batches of beer\".format(Beer.varValue))\n",
    "print(\"Product {} batches of wine\".format(Wine.varValue))"
   ]
  },
  {
   "cell_type": "code",
   "execution_count": 121,
   "metadata": {},
   "outputs": [
    {
     "name": "stdout",
     "output_type": "stream",
     "text": [
      "Total Profit: $48.0\n"
     ]
    }
   ],
   "source": [
    "# Calculate the profit\n",
    "profit = 4.5 * Beer.varValue + 5 * Wine.varValue\n",
    "print(\"Total Profit: ${}\".format(profit))"
   ]
  },
  {
   "cell_type": "code",
   "execution_count": 122,
   "metadata": {},
   "outputs": [],
   "source": [
    "#LAB 1 Exercise 2"
   ]
  },
  {
   "cell_type": "code",
   "execution_count": 123,
   "metadata": {},
   "outputs": [],
   "source": [
    "model2 = pulp.LpProblem(\"Minimize-Cost\", LpMinimize)"
   ]
  },
  {
   "cell_type": "code",
   "execution_count": 124,
   "metadata": {},
   "outputs": [],
   "source": [
    "#Define the decision variables\n",
    "#Define the decision variables\n",
    "Bilbao_to_Italy = LpVariable('Italy Transport', lowBound=400, upBound=1800, cat='Integer')\n",
    "Bilbao_to_France = LpVariable('France Transport', lowBound=400, upBound=1200, cat='Integer')\n",
    "Bilbao_to_Spain = LpVariable('Spain Transport', lowBound=800, upBound=1100, cat='Integer')\n",
    "Bilbao_to_Portugal = LpVariable('Portugal Transport', lowBound=400, upBound=1000, cat='Integer')\n",
    "Lyon_to_Italy = LpVariable('Italy2 Transport', lowBound=400, upBound=1800, cat='Integer')\n",
    "Lyon_to_France = LpVariable('France2 Transport', lowBound=600, upBound=1200, cat='Integer')\n",
    "Lyon_to_Spain = LpVariable('Spain2 Transport', lowBound=400, upBound=1100, cat='Integer')\n",
    "Lyon_to_Portugal = LpVariable('Portugal2 Transport', lowBound=400, upBound=1000, cat='Integer')"
   ]
  },
  {
   "cell_type": "code",
   "execution_count": 125,
   "metadata": {},
   "outputs": [],
   "source": [
    "model2 += 2.11 * Bilbao_to_Italy + 2.32 * Bilbao_to_France + 2.40 * Bilbao_to_Spain + 3.00 * Bilbao_to_Portugal + 2.32 * Lyon_to_Italy + 2.12 * Lyon_to_France + 2.30 * Lyon_to_Spain + 2.80 * Lyon_to_Portugal + 0.5 * 2.8 *  Lyon_to_Portugal, \"Cost\""
   ]
  },
  {
   "cell_type": "code",
   "execution_count": 126,
   "metadata": {},
   "outputs": [],
   "source": [
    "model2 += Bilbao_to_Italy + Lyon_to_Italy == 1800\n",
    "model2 += Bilbao_to_France + Lyon_to_France == 1200\n",
    "model2 += Bilbao_to_Spain + Lyon_to_Spain == 1100\n",
    "model2 += Bilbao_to_Portugal + Lyon_to_Portugal == 1000"
   ]
  },
  {
   "cell_type": "code",
   "execution_count": 127,
   "metadata": {},
   "outputs": [
    {
     "name": "stdout",
     "output_type": "stream",
     "text": [
      "Welcome to the CBC MILP Solver \n",
      "Version: 2.10.3 \n",
      "Build Date: Dec 15 2019 \n",
      "\n",
      "command line - /Users/hubert/Mathematical Optimization/venv/lib/python3.12/site-packages/pulp/solverdir/cbc/osx/64/cbc /var/folders/k9/h185wcs52298q4_7336lhjww0000gn/T/820311b2b05d47828d0898a47c793aac-pulp.mps -timeMode elapsed -branch -printingOptions all -solution /var/folders/k9/h185wcs52298q4_7336lhjww0000gn/T/820311b2b05d47828d0898a47c793aac-pulp.sol (default strategy 1)\n",
      "At line 2 NAME          MODEL\n",
      "At line 3 ROWS\n",
      "At line 9 COLUMNS\n",
      "At line 42 RHS\n",
      "At line 47 BOUNDS\n",
      "At line 64 ENDATA\n",
      "Problem MODEL has 4 rows, 8 columns and 8 elements\n",
      "Coin0008I MODEL read with 0 errors\n",
      "Option for timeMode changed from cpu to elapsed\n",
      "Problem is infeasible - 0.00 seconds\n",
      "Option for printingOptions changed from normal to all\n",
      "Total time (CPU seconds):       0.00   (Wallclock seconds):       0.00\n",
      "\n"
     ]
    },
    {
     "data": {
      "text/plain": [
       "-1"
      ]
     },
     "execution_count": 127,
     "metadata": {},
     "output_type": "execute_result"
    }
   ],
   "source": [
    "model2.solve()"
   ]
  },
  {
   "cell_type": "code",
   "execution_count": 129,
   "metadata": {},
   "outputs": [
    {
     "name": "stdout",
     "output_type": "stream",
     "text": [
      "12266.0\n"
     ]
    }
   ],
   "source": [
    "# Print the results + fajna rzecz, o której moze nie wiesz to option + z na macu i masz ten wrap fajny, zeby nie scrollowac w prawo bo ogladalem filmik niedawno o tym \n",
    "cost = 2.11 * Bilbao_to_Italy.varValue+ 2.32 * Bilbao_to_France.varValue + 2.40 * Bilbao_to_Spain.varValue + 3.00 * Bilbao_to_Portugal.varValue + 2.32 * Lyon_to_Italy.varValue + 2.12 * Lyon_to_France.varValue + 2.30 * Lyon_to_Spain.varValue + 2.80 * Lyon_to_Portugal.varValue\n",
    "print(f\"{cost}\")\n"
   ]
  }
 ],
 "metadata": {
  "kernelspec": {
   "display_name": "venv",
   "language": "python",
   "name": "python3"
  },
  "language_info": {
   "codemirror_mode": {
    "name": "ipython",
    "version": 3
   },
   "file_extension": ".py",
   "mimetype": "text/x-python",
   "name": "python",
   "nbconvert_exporter": "python",
   "pygments_lexer": "ipython3",
   "version": "3.12.6"
  }
 },
 "nbformat": 4,
 "nbformat_minor": 2
}
